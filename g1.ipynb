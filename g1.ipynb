{
 "cells": [
  {
   "cell_type": "code",
   "execution_count": 1,
   "id": "79a30294-6862-4ef9-967b-c88a2688e6a6",
   "metadata": {},
   "outputs": [
    {
     "name": "stdout",
     "output_type": "stream",
     "text": [
      "Loading pre-trained word vectors...\n",
      "Model loaded successfully!\n",
      "\n",
      "Exploring word relationships using vector arithmetic:\n",
      "boy - man + woman = [('TERRIBLE', 0.45916804671287537)]\n",
      "Paris - France + Italy = [('Sydney', 0.7283503413200378)]\n",
      "walking - walk + run = [('running', 0.6465737223625183)]\n"
     ]
    }
   ],
   "source": [
    "import gensim.downloader as api\n",
    "\n",
    "\n",
    "def load_word_vectors():\n",
    "    print(\"Loading pre-trained word vectors...\")\n",
    "    model = api.load(\"word2vec-google-news-300\")  \n",
    "    print(\"Model loaded successfully!\")\n",
    "    return model\n",
    "\n",
    "\n",
    "\n",
    "def vector_arithmetic(model):\n",
    "    print(\"\\nExploring word relationships using vector arithmetic:\")\n",
    "    \n",
    "\n",
    "    result = model.most_similar(positive=[\"GOOD\", \"BAD\"], negative=[\"HAPPY\"], topn=1)\n",
    "    print(\"boy - man + woman =\", result)\n",
    "\n",
    "    result = model.most_similar(positive=[\"Delhi\", \"Australia\"], negative=[\"India\"], topn=1)\n",
    "    print(\"Paris - France + Italy =\", result)\n",
    "    \n",
    "    result = model.most_similar(positive=[\"walking\", \"run\"], negative=[\"walk\"], topn=1)\n",
    "    print(\"walking - walk + run =\", result)\n",
    "    \n",
    "def main():\n",
    "    model = load_word_vectors()\n",
    "    vector_arithmetic(model)\n",
    "\n",
    "if __name__ == \"__main__\":\n",
    "    main()"
   ]
  },
  {
   "cell_type": "code",
   "execution_count": null,
   "id": "893dd22c-e0af-4b30-b868-98eac7de7de4",
   "metadata": {},
   "outputs": [],
   "source": []
  }
 ],
 "metadata": {
  "kernelspec": {
   "display_name": "Python 3 (ipykernel)",
   "language": "python",
   "name": "python3"
  },
  "language_info": {
   "codemirror_mode": {
    "name": "ipython",
    "version": 3
   },
   "file_extension": ".py",
   "mimetype": "text/x-python",
   "name": "python",
   "nbconvert_exporter": "python",
   "pygments_lexer": "ipython3",
   "version": "3.11.9"
  }
 },
 "nbformat": 4,
 "nbformat_minor": 5
}
