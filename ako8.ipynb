{
 "cells": [
  {
   "cell_type": "code",
   "execution_count": 1,
   "id": "fb6e5625-9e5b-4715-903d-0db9a00cfd49",
   "metadata": {},
   "outputs": [
    {
     "name": "stdout",
     "output_type": "stream",
     "text": [
      "Please visit this URL to authorize this application: https://accounts.google.com/o/oauth2/auth?response_type=code&client_id=580062733907-5vulteuj6un97sr0knrmnekl0d58s4d5.apps.googleusercontent.com&redirect_uri=http%3A%2F%2Flocalhost%3A55957%2F&scope=https%3A%2F%2Fwww.googleapis.com%2Fauth%2Fdrive.readonly&state=CJh15g16YiXIs0vbOgoAzMKu5iOCoy&access_type=offline\n"
     ]
    },
    {
     "ename": "HttpError",
     "evalue": "<HttpError 404 when requesting https://www.googleapis.com/drive/v3/files/10yBhlvw6nXu4Gf6cqGlSmXLXxV4udhNd?alt=media returned \"File not found: 10yBhlvw6nXu4Gf6cqGlSmXLXxV4udhNd.\". Details: \"[{'message': 'File not found: 10yBhlvw6nXu4Gf6cqGlSmXLXxV4udhNd.', 'domain': 'global', 'reason': 'notFound', 'location': 'fileId', 'locationType': 'parameter'}]\">",
     "output_type": "error",
     "traceback": [
      "\u001b[31m---------------------------------------------------------------------------\u001b[39m",
      "\u001b[31mHttpError\u001b[39m                                 Traceback (most recent call last)",
      "\u001b[36mCell\u001b[39m\u001b[36m \u001b[39m\u001b[32mIn[1]\u001b[39m\u001b[32m, line 35\u001b[39m\n\u001b[32m     33\u001b[39m file_id = \u001b[33m\"\u001b[39m\u001b[33m10yBhlvw6nXu4Gf6cqGlSmXLXxV4udhNd\u001b[39m\u001b[33m\"\u001b[39m\n\u001b[32m     34\u001b[39m \u001b[38;5;66;03m# Replace with your file ID\u001b[39;00m\n\u001b[32m---> \u001b[39m\u001b[32m35\u001b[39m doc_text = \u001b[43mload_text_file\u001b[49m\u001b[43m(\u001b[49m\u001b[43mfile_id\u001b[49m\u001b[43m)\u001b[49m\n\u001b[32m     36\u001b[39m \u001b[38;5;28mprint\u001b[39m(\u001b[33m\"\u001b[39m\u001b[33m📂 File Content from Google Drive:\u001b[39m\u001b[38;5;130;01m\\n\u001b[39;00m\u001b[33m\"\u001b[39m)\n\u001b[32m     37\u001b[39m \u001b[38;5;28mprint\u001b[39m(doc_text)\n",
      "\u001b[36mCell\u001b[39m\u001b[36m \u001b[39m\u001b[32mIn[1]\u001b[39m\u001b[32m, line 26\u001b[39m, in \u001b[36mload_text_file\u001b[39m\u001b[34m(file_id)\u001b[39m\n\u001b[32m     24\u001b[39m done = \u001b[38;5;28;01mFalse\u001b[39;00m\n\u001b[32m     25\u001b[39m \u001b[38;5;28;01mwhile\u001b[39;00m \u001b[38;5;129;01mnot\u001b[39;00m done:\n\u001b[32m---> \u001b[39m\u001b[32m26\u001b[39m     status, done = \u001b[43mdownloader\u001b[49m\u001b[43m.\u001b[49m\u001b[43mnext_chunk\u001b[49m\u001b[43m(\u001b[49m\u001b[43m)\u001b[49m\n\u001b[32m     29\u001b[39m fh.seek(\u001b[32m0\u001b[39m)\n\u001b[32m     30\u001b[39m \u001b[38;5;28;01mreturn\u001b[39;00m fh.read().decode(\u001b[33m'\u001b[39m\u001b[33mutf-8\u001b[39m\u001b[33m'\u001b[39m)\n",
      "\u001b[36mFile \u001b[39m\u001b[32m~\\AppData\\Local\\Programs\\Python\\Python311\\Lib\\site-packages\\googleapiclient\\_helpers.py:130\u001b[39m, in \u001b[36mpositional.<locals>.positional_decorator.<locals>.positional_wrapper\u001b[39m\u001b[34m(*args, **kwargs)\u001b[39m\n\u001b[32m    128\u001b[39m     \u001b[38;5;28;01melif\u001b[39;00m positional_parameters_enforcement == POSITIONAL_WARNING:\n\u001b[32m    129\u001b[39m         logger.warning(message)\n\u001b[32m--> \u001b[39m\u001b[32m130\u001b[39m \u001b[38;5;28;01mreturn\u001b[39;00m \u001b[43mwrapped\u001b[49m\u001b[43m(\u001b[49m\u001b[43m*\u001b[49m\u001b[43margs\u001b[49m\u001b[43m,\u001b[49m\u001b[43m \u001b[49m\u001b[43m*\u001b[49m\u001b[43m*\u001b[49m\u001b[43mkwargs\u001b[49m\u001b[43m)\u001b[49m\n",
      "\u001b[36mFile \u001b[39m\u001b[32m~\\AppData\\Local\\Programs\\Python\\Python311\\Lib\\site-packages\\googleapiclient\\http.py:780\u001b[39m, in \u001b[36mMediaIoBaseDownload.next_chunk\u001b[39m\u001b[34m(self, num_retries)\u001b[39m\n\u001b[32m    775\u001b[39m         \u001b[38;5;28mself\u001b[39m._done = \u001b[38;5;28;01mTrue\u001b[39;00m\n\u001b[32m    776\u001b[39m         \u001b[38;5;28;01mreturn\u001b[39;00m (\n\u001b[32m    777\u001b[39m             MediaDownloadProgress(\u001b[38;5;28mself\u001b[39m._progress, \u001b[38;5;28mself\u001b[39m._total_size),\n\u001b[32m    778\u001b[39m             \u001b[38;5;28mself\u001b[39m._done,\n\u001b[32m    779\u001b[39m         )\n\u001b[32m--> \u001b[39m\u001b[32m780\u001b[39m \u001b[38;5;28;01mraise\u001b[39;00m HttpError(resp, content, uri=\u001b[38;5;28mself\u001b[39m._uri)\n",
      "\u001b[31mHttpError\u001b[39m: <HttpError 404 when requesting https://www.googleapis.com/drive/v3/files/10yBhlvw6nXu4Gf6cqGlSmXLXxV4udhNd?alt=media returned \"File not found: 10yBhlvw6nXu4Gf6cqGlSmXLXxV4udhNd.\". Details: \"[{'message': 'File not found: 10yBhlvw6nXu4Gf6cqGlSmXLXxV4udhNd.', 'domain': 'global', 'reason': 'notFound', 'location': 'fileId', 'locationType': 'parameter'}]\">"
     ]
    }
   ],
   "source": [
    "import os\n",
    "import io\n",
    "from google_auth_oauthlib.flow import InstalledAppFlow\n",
    "from googleapiclient.discovery import build\n",
    "from googleapiclient.http import MediaIoBaseDownload\n",
    "from langchain_community.llms import Cohere\n",
    "from langchain.prompts import PromptTemplate\n",
    "from langchain.chains import LLMChain\n",
    "\n",
    "\n",
    "os.environ[\"COHERE_API_KEY\"] = \"HlylPPDyaEVHlnlE7tgbn239xI4Ed5JAYsDFHBI9\"\n",
    "\n",
    "\n",
    "def load_text_file(file_id):\n",
    "    SCOPES = ['https://www.googleapis.com/auth/drive.readonly']\n",
    "    flow = InstalledAppFlow.from_client_secrets_file('ab.json', SCOPES)\n",
    "    creds = flow.run_local_server(port=0)\n",
    "    service = build('drive', 'v3', credentials=creds)\n",
    "\n",
    "\n",
    "    request = service.files().get_media(fileId=file_id)\n",
    "    fh = io.BytesIO()\n",
    "    downloader = MediaIoBaseDownload(fh, request)\n",
    "    done = False\n",
    "    while not done:\n",
    "        status, done = downloader.next_chunk()\n",
    "\n",
    "\n",
    "    fh.seek(0)\n",
    "    return fh.read().decode('utf-8')\n",
    "\n",
    "\n",
    "file_id = \"10yBhlvw6nXu4Gf6cqGlSmXLXxV4udhNd\"\n",
    "# Replace with your file ID\n",
    "doc_text = load_text_file(file_id)\n",
    "print(\"📂 File Content from Google Drive:\\n\")\n",
    "print(doc_text)\n",
    "\n",
    "\n",
    "template = \"\"\"\n",
    "📄 Document Summary:\n",
    "\n",
    "\n",
    "{content}\n",
    "\n",
    "\n",
    "🧠 Summarize the document above and list the 3 most important insights clearly:\n",
    "\"\"\"\n",
    "\n",
    "\n",
    "llm = Cohere(cohere_api_key=os.environ[\"COHERE_API_KEY\"])\n",
    "prompt = PromptTemplate(input_variables=[\"content\"], template=template)\n",
    "chain = LLMChain(llm=llm, prompt=prompt)\n",
    "\n",
    "\n",
    "\n",
    "\n",
    "result = chain.run(doc_text)\n",
    "print(\"\\n✅ Output:\\n\")\n",
    "print(result)"
   ]
  },
  {
   "cell_type": "code",
   "execution_count": null,
   "id": "d9372445-aaf7-4161-9f0a-7555c647d7d6",
   "metadata": {},
   "outputs": [],
   "source": []
  }
 ],
 "metadata": {
  "kernelspec": {
   "display_name": "Python (myenv)",
   "language": "python",
   "name": "myenv"
  },
  "language_info": {
   "codemirror_mode": {
    "name": "ipython",
    "version": 3
   },
   "file_extension": ".py",
   "mimetype": "text/x-python",
   "name": "python",
   "nbconvert_exporter": "python",
   "pygments_lexer": "ipython3",
   "version": "3.11.9"
  }
 },
 "nbformat": 4,
 "nbformat_minor": 5
}
