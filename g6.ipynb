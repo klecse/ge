{
 "cells": [
  {
   "cell_type": "code",
   "execution_count": 1,
   "id": "6fa904a7-ca8b-44bd-921b-8b1845cce961",
   "metadata": {},
   "outputs": [
    {
     "name": "stderr",
     "output_type": "stream",
     "text": [
      "Device set to use cpu\n"
     ]
    },
    {
     "name": "stdout",
     "output_type": "stream",
     "text": [
      "Sentence: I love using Hugging Face models, they are amazing!\n",
      "Sentiment: POSITIVE, Confidence: 0.9999\n",
      "--------------------------------------------------\n",
      "Sentence: The weather today is terrible and I feel so sad.\n",
      "Sentiment: NEGATIVE, Confidence: 0.9992\n",
      "--------------------------------------------------\n",
      "Sentence: This is the best day of my life!\n",
      "Sentiment: POSITIVE, Confidence: 0.9999\n",
      "--------------------------------------------------\n",
      "Sentence: I'm not sure how I feel about this.\n",
      "Sentiment: NEGATIVE, Confidence: 0.9992\n",
      "--------------------------------------------------\n"
     ]
    }
   ],
   "source": [
    "from transformers import pipeline\n",
    "\n",
    "\n",
    "model_name = \"distilbert/distilbert-base-uncased-finetuned-sst-2-english\"\n",
    "\n",
    "\n",
    "sentiment_analyzer = pipeline(\"sentiment-analysis\", model=model_name)\n",
    "\n",
    "sentences = [\n",
    "    \"I love using Hugging Face models, they are amazing!\",\n",
    "    \"The weather today is terrible and I feel so sad.\",\n",
    "    \"This is the best day of my life!\",\n",
    "    \"I'm not sure how I feel about this.\"\n",
    "]\n",
    "\n",
    "results = sentiment_analyzer(sentences)\n",
    "\n",
    "for sentence, result in zip(sentences, results):\n",
    "    print(f\"Sentence: {sentence}\")\n",
    "    print(f\"Sentiment: {result['label']}, Confidence: {result['score']:.4f}\")\n",
    "    print(\"-\" * 50)\n"
   ]
  },
  {
   "cell_type": "code",
   "execution_count": null,
   "id": "9c911860-508c-438a-833c-864d4d3769c1",
   "metadata": {},
   "outputs": [],
   "source": []
  }
 ],
 "metadata": {
  "kernelspec": {
   "display_name": "Python (myenv)",
   "language": "python",
   "name": "myenv"
  },
  "language_info": {
   "codemirror_mode": {
    "name": "ipython",
    "version": 3
   },
   "file_extension": ".py",
   "mimetype": "text/x-python",
   "name": "python",
   "nbconvert_exporter": "python",
   "pygments_lexer": "ipython3",
   "version": "3.11.9"
  }
 },
 "nbformat": 4,
 "nbformat_minor": 5
}
