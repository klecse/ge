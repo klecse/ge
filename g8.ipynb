{
 "cells": [
  {
   "cell_type": "code",
   "execution_count": 1,
   "id": "33e4e7d1-c546-47b6-923f-dbd0494d6011",
   "metadata": {},
   "outputs": [
    {
     "name": "stdout",
     "output_type": "stream",
     "text": [
      "Please visit this URL to authorize this application: https://accounts.google.com/o/oauth2/auth?response_type=code&client_id=580062733907-5vulteuj6un97sr0knrmnekl0d58s4d5.apps.googleusercontent.com&redirect_uri=http%3A%2F%2Flocalhost%3A63924%2F&scope=https%3A%2F%2Fwww.googleapis.com%2Fauth%2Fdrive.readonly&state=wbCXaaPh8H4ix2asOsL6gygtfp8rsz&access_type=offline\n",
      "📂 File Content from Google Drive:\n",
      "\n",
      "nstall langchain, cohere (for key), langchain-community. Get the api key( By logging into Cohere and obtaining the cohere key). Load a text document from your google drive . Create a prompt template to display the output in a particular manner. \n",
      "\n",
      "✅ Output:\n",
      "\n",
      "**Summary:**  \n",
      "The document outlines steps to set up a workflow involving LangChain, Cohere, and Google Drive. It requires installing necessary libraries, obtaining a Cohere API key, loading a text document from Google Drive, and creating a prompt template for formatted output.\n",
      "\n",
      "**3 Most Important Insights:**  \n",
      "1. **Setup Dependencies:** Install LangChain, Cohere, and LangChain-Community libraries to enable the workflow.  \n",
      "2. **API Key Requirement:** Obtain a Cohere API key by logging into Cohere, which is essential for accessing Cohere’s services.  \n",
      "3. **Document Integration:** Load a text document from Google Drive to process or analyze it within the workflow.\n"
     ]
    }
   ],
   "source": [
    "import os\n",
    "import io\n",
    "from google_auth_oauthlib.flow import InstalledAppFlow\n",
    "from googleapiclient.discovery import build\n",
    "from googleapiclient.http import MediaIoBaseDownload\n",
    "from langchain_core.prompts import PromptTemplate\n",
    "from langchain_core.runnables import RunnableSequence\n",
    "from langchain_cohere import ChatCohere  \n",
    "\n",
    "os.environ[\"COHERE_API_KEY\"] = \"lNH1WBwJ4s3yb21gdHnT6plPPcmOiY3FvkQvFe9g\"\n",
    "\n",
    "def load_text_file(file_id):\n",
    "    creds = InstalledAppFlow.from_client_secrets_file(\n",
    "        'ab.json', ['https://www.googleapis.com/auth/drive.readonly']\n",
    "    ).run_local_server(port=0)\n",
    "\n",
    "    service = build('drive', 'v3', credentials=creds)\n",
    "    request = service.files().get_media(fileId=file_id)\n",
    "    fh = io.BytesIO()\n",
    "    MediaIoBaseDownload(fh, request).next_chunk()\n",
    "    fh.seek(0)\n",
    "    return fh.read().decode()\n",
    "\n",
    "file_id = \"17SchNh4A-rhXdJm4t0Gp47cDvfrZS-Qh\"\n",
    "doc_text = load_text_file(file_id)\n",
    "print(\"📂 File Content from Google Drive:\\n\")\n",
    "print(doc_text)\n",
    "\n",
    "\n",
    "template = \"\"\"\n",
    "📄 Document Summary:\n",
    "\n",
    "{content}\n",
    "\n",
    "🧠 Summarize the document above and list the 3 most important insights clearly:\n",
    "\"\"\"\n",
    "prompt = PromptTemplate.from_template(template)\n",
    "\n",
    "llm = ChatCohere(cohere_api_key=os.environ[\"COHERE_API_KEY\"])\n",
    "\n",
    "\n",
    "chain = prompt | llm\n",
    "\n",
    "\n",
    "result = chain.invoke({\"content\": doc_text})\n",
    "\n",
    "print(\"\\n✅ Output:\\n\")\n",
    "print(result.content if hasattr(result, 'content') else result)\n",
    "\n",
    "\n",
    "\n"
   ]
  }
 ],
 "metadata": {
  "kernelspec": {
   "display_name": "Python (myenv)",
   "language": "python",
   "name": "myenv"
  },
  "language_info": {
   "codemirror_mode": {
    "name": "ipython",
    "version": 3
   },
   "file_extension": ".py",
   "mimetype": "text/x-python",
   "name": "python",
   "nbconvert_exporter": "python",
   "pygments_lexer": "ipython3",
   "version": "3.11.9"
  }
 },
 "nbformat": 4,
 "nbformat_minor": 5
}
