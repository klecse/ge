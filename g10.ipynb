{
 "cells": [
  {
   "cell_type": "code",
   "execution_count": null,
   "id": "869e0f67-fadc-4834-8bc3-50f645f8f792",
   "metadata": {
    "scrolled": true
   },
   "outputs": [
    {
     "name": "stdout",
     "output_type": "stream",
     "text": [
      "\n",
      "⚖️ Welcome to the IPC Chatbot! Ask about any IPC section (e.g., 'Tell me about Section 6'). Type 'exit' to quit.\n",
      "\n"
     ]
    },
    {
     "name": "stdin",
     "output_type": "stream",
     "text": [
      "You:  Tell me about Section 6\n"
     ]
    },
    {
     "name": "stdout",
     "output_type": "stream",
     "text": [
      "\n",
      "    Chapter 2: General explanations\n",
      "    Section 6: Definitions in the Code to be understood subject to exceptions\n",
      "    Description: Throughout this Code every definition of an Offence, every penal provision and every illustration of every such definition or penal provision, shall be understood subject to the exceptions contained in the Chapter entitled “General Exceptions”, though those exceptions are not repeated in such definition, penal provision, or illustration.\n",
      "\n"
     ]
    }
   ],
   "source": [
    "import json\n",
    "\n",
    "def load_ipc_data(file_path=\"ipc.json\"):\n",
    "    with open(file_path, \"r\", encoding=\"utf-8\") as file:\n",
    "        return json.load(file)\n",
    "\n",
    "def get_section_details(ipc_data, section_number):\n",
    "    section_number = section_number.lower().replace(\"section\", \"\").strip()\n",
    "    for entry in ipc_data:\n",
    "        if str(entry.get(\"Section\")).lower() == section_number:\n",
    "            return entry\n",
    "    return None\n",
    "\n",
    "def ipc_chatbot():\n",
    "    ipc_data = load_ipc_data()\n",
    "    print(\"\\n⚖️ Welcome to the IPC Chatbot! Ask about any IPC section (e.g., 'Tell me about Section 6'). Type 'exit' to quit.\\n\")\n",
    "    \n",
    "    while True:\n",
    "        user_input = input(\"You: \").strip().lower()\n",
    "\n",
    "        if user_input == \"exit\":\n",
    "            print(\"👋 Goodbye!\")\n",
    "            break\n",
    "\n",
    "        words = user_input.split()\n",
    "        section_number = None\n",
    "        for i in range(len(words) - 1):\n",
    "            if words[i] == \"section\":\n",
    "                section_number = words[i + 1]\n",
    "                break\n",
    "\n",
    "        \n",
    "        if section_number:\n",
    "            details = get_section_details(ipc_data, section_number)\n",
    "            if details:\n",
    "                print(f\"\"\"\n",
    "    Chapter {details['chapter']}: {details['chapter_title'].capitalize()}\n",
    "    Section {details['Section']}: {details['section_title']}\n",
    "    Description: {details['section_desc']}\n",
    "\"\"\")\n",
    "            else:\n",
    "                print(f\"⚠️ Section {section_number} not found in IPC data.\")\n",
    "        else:\n",
    "            print(\"🤔 Please mention a section number (e.g., 'Tell me about Section 6').\")\n",
    "\n",
    "if __name__ == \"__main__\":\n",
    "    ipc_chatbot()\n"
   ]
  },
  {
   "cell_type": "code",
   "execution_count": null,
   "id": "03622fb2-e440-428d-a049-9b91b574de3b",
   "metadata": {},
   "outputs": [],
   "source": []
  }
 ],
 "metadata": {
  "kernelspec": {
   "display_name": "Python (myenv)",
   "language": "python",
   "name": "myenv"
  },
  "language_info": {
   "codemirror_mode": {
    "name": "ipython",
    "version": 3
   },
   "file_extension": ".py",
   "mimetype": "text/x-python",
   "name": "python",
   "nbconvert_exporter": "python",
   "pygments_lexer": "ipython3",
   "version": "3.11.9"
  }
 },
 "nbformat": 4,
 "nbformat_minor": 5
}
