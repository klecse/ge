{
 "cells": [
  {
   "cell_type": "code",
   "execution_count": 19,
   "id": "90fe262f-03d4-4129-9666-81dafc589689",
   "metadata": {},
   "outputs": [
    {
     "name": "stdin",
     "output_type": "stream",
     "text": [
      "Enter institution name:   Visvesvaraya Technological University\n"
     ]
    },
    {
     "name": "stdout",
     "output_type": "stream",
     "text": [
      "\n",
      "Institution:  Visvesvaraya Technological University\n",
      "Founded: 1 April 1998; 27 years ago (1998-04-01)[1][2]\n",
      "Headquarters: Belagavi, Karnataka, Karnataka, India15°46′43.72″N 74°27′43.53″E﻿ / ﻿15.7788111°N 74.4620917°E﻿ / 15.7788111; 74.4620917\n",
      "Branches: Bangalore, Belagavi\n",
      "employ: Not Found\n",
      "Summary: Visvesvaraya Technological University (VTU), is a collegiate public state university in Belagavi, Karnataka established by the Government of Karnataka. It is one of the largest Technological Universities in India with 26 years of Tradition of excellence in Engineering & Technical Education, Research and Innovations.\n"
     ]
    }
   ],
   "source": [
    "import wikipedia\n",
    "import requests\n",
    "from bs4 import BeautifulSoup\n",
    "\n",
    "def fetch_info(name):\n",
    "    try:\n",
    "        page = wikipedia.page(name)\n",
    "        summary = wikipedia.summary(name, sentences=2)\n",
    "        url = page.url\n",
    "        response = requests.get(url)\n",
    "        soup = BeautifulSoup(response.text, 'html.parser')\n",
    "        rows = soup.select('.infobox tr')\n",
    "\n",
    "        f , h , e= \"Not Found\" , \"Not Found\",\"Not Found\"\n",
    "\n",
    "        for row in rows:\n",
    "            th, td = row.find(\"th\"),row.find(\"td\")\n",
    "            if not th or not td:continue\n",
    "\n",
    "            text = th.text.lower()\n",
    "\n",
    "            if \"founded\" in text or \"established\" in text:\n",
    "                f = td.text.strip()\n",
    "\n",
    "            if \"headquarters\" in text or \"location\" in text:\n",
    "                h = td.text.strip()\n",
    "\n",
    "            elif \"employees\" in text or \"number of employees\" in text:\n",
    "                e = td.text.strip()\n",
    "            \n",
    "\n",
    "        known_branches = [\"New York\", \"London\", \"Tokyo\", \"Bangalore\", \"Belagavi\"]\n",
    "        b = [city for city in known_branches if city.lower() in page.content.lower()]\n",
    "        branches = \", \".join(b) if b else \"Not Found\"\n",
    "\n",
    "        return f\"\\nInstitution: {name}\\nFounded: {f}\\nHeadquarters: {h}\\nBranches: {branches}\\nemploy: {e}\\nSummary: {summary}\"\n",
    "\n",
    "    except wikipedia.exceptions.DisambiguationError as e:\n",
    "        return f\"Disambiguation Error: {e.options[:3]}\"\n",
    "    except wikipedia.exceptions.PageError:\n",
    "        return f\"No page found for '{name}'\"\n",
    "\n",
    "# Visvesvaraya Technological University\n",
    "#Gogte Institute of Technology\n",
    "if __name__ == \"__main__\":\n",
    "    name = input(\"Enter institution name: \")\n",
    "    print(fetch_info(name))\n"
   ]
  },
  {
   "cell_type": "code",
   "execution_count": null,
   "id": "a9f7782b-eed0-4002-bb40-3545948fd8cd",
   "metadata": {},
   "outputs": [],
   "source": []
  },
  {
   "cell_type": "code",
   "execution_count": null,
   "id": "e582465e-64f2-459b-8fd7-80cf044344dc",
   "metadata": {},
   "outputs": [],
   "source": []
  },
  {
   "cell_type": "code",
   "execution_count": null,
   "id": "3e5c66c3-74c6-46b1-8789-568bd687e587",
   "metadata": {},
   "outputs": [],
   "source": []
  }
 ],
 "metadata": {
  "kernelspec": {
   "display_name": "Python (myenv)",
   "language": "python",
   "name": "myenv"
  },
  "language_info": {
   "codemirror_mode": {
    "name": "ipython",
    "version": 3
   },
   "file_extension": ".py",
   "mimetype": "text/x-python",
   "name": "python",
   "nbconvert_exporter": "python",
   "pygments_lexer": "ipython3",
   "version": "3.11.9"
  }
 },
 "nbformat": 4,
 "nbformat_minor": 5
}
