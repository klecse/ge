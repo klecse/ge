{
 "cells": [
  {
   "cell_type": "code",
   "execution_count": 1,
   "id": "6113bbbb-9ce2-4797-9b33-6d10d877873f",
   "metadata": {},
   "outputs": [
    {
     "name": "stdout",
     "output_type": "stream",
     "text": [
      "\n",
      "Top similar words to 'court':\n",
      "1. judge\n",
      "2. appeals\n",
      "3. supreme\n",
      "4. courts\n",
      "5. trial\n",
      "6. case\n",
      "7. appeal\n",
      "8. judges\n",
      "9. verdict\n",
      "10. hearing\n",
      "\n",
      "In a world defined by 'court', people found themselves surrounded by concepts like courts, judge, appeal, supreme, and hearing. These ideas shaped the way they thought, acted, and dreamed. Every step forward in their journey reflected the essence of 'court', bringing them closer to understanding the true meaning of courts.\n"
     ]
    }
   ],
   "source": [
    "import gensim.downloader as api  \n",
    "from gensim.models import KeyedVectors  \n",
    "import random  \n",
    "\n",
    "\n",
    "model = api.load(\"glove-wiki-gigaword-100\")\n",
    "\n",
    "\n",
    "def generate_similar_words(seed_word, topn=10):\n",
    "    if seed_word in model:\n",
    "        return [word for word, _ in model.most_similar(seed_word, topn=topn)]\n",
    "    else:\n",
    "        return []\n",
    "\n",
    "\n",
    "def create_paragraph(seed_word):\n",
    "    similar_words = generate_similar_words(seed_word, topn=10)\n",
    "    \n",
    "    if not similar_words:\n",
    "        return f\"No similar words found for '{seed_word}'.\"\n",
    "\n",
    "    print(f\"\\nTop similar words to '{seed_word}':\")\n",
    "    for i, word in enumerate(similar_words, 1):\n",
    "        print(f\"{i}. {word}\")\n",
    "\n",
    "    random.shuffle(similar_words)\n",
    "    selected_words = similar_words[:5]\n",
    "\n",
    "    paragraph = f\"\\nIn a world defined by '{seed_word}', \"\n",
    "    paragraph += f\"people found themselves surrounded by concepts like {', '.join(selected_words[:-1])}, and {selected_words[-1]}. \"\n",
    "    paragraph += f\"These ideas shaped the way they thought, acted, and dreamed. Every step forward in their journey reflected the essence of '{seed_word}', \"\n",
    "    paragraph += f\"bringing them closer to understanding the true meaning of {selected_words[0]}.\"\n",
    "\n",
    "    return paragraph\n",
    "\n",
    "seed = \"court\"  \n",
    "print(create_paragraph(seed))\n"
   ]
  },
  {
   "cell_type": "code",
   "execution_count": null,
   "id": "87a0440a-8e1f-4f5f-87fd-b39bc97ff099",
   "metadata": {},
   "outputs": [],
   "source": []
  }
 ],
 "metadata": {
  "kernelspec": {
   "display_name": "Python (myenv)",
   "language": "python",
   "name": "myenv"
  },
  "language_info": {
   "codemirror_mode": {
    "name": "ipython",
    "version": 3
   },
   "file_extension": ".py",
   "mimetype": "text/x-python",
   "name": "python",
   "nbconvert_exporter": "python",
   "pygments_lexer": "ipython3",
   "version": "3.11.9"
  }
 },
 "nbformat": 4,
 "nbformat_minor": 5
}
