{
 "cells": [
  {
   "cell_type": "code",
   "execution_count": null,
   "id": "5164fbf5-15f5-4f3c-9914-e2f676a5a9cc",
   "metadata": {},
   "outputs": [],
   "source": [
    "sudo apt update\n",
    "sudo apt install python3-venv -y\n"
   ]
  },
  {
   "cell_type": "code",
   "execution_count": null,
   "id": "b63e3bc0-d3b9-4c8d-8994-e9d6a4837b23",
   "metadata": {},
   "outputs": [],
   "source": [
    "python3 -m venv myenv\n"
   ]
  },
  {
   "cell_type": "code",
   "execution_count": null,
   "id": "17cf174a-2b18-4f53-9708-346e73debfc6",
   "metadata": {},
   "outputs": [],
   "source": [
    "source myenv/bin/activate\n"
   ]
  },
  {
   "cell_type": "code",
   "execution_count": null,
   "id": "6293418f-df07-4450-a28b-0559ea52bf42",
   "metadata": {},
   "outputs": [],
   "source": [
    "pip install --upgrade pip\n",
    "pip install jupyter sentence-transformers\n"
   ]
  },
  {
   "cell_type": "code",
   "execution_count": null,
   "id": "c3f1e3eb-93b7-4115-899a-1e5b9b5e6d9c",
   "metadata": {},
   "outputs": [],
   "source": [
    "jupyter notebook\n"
   ]
  },
  {
   "cell_type": "code",
   "execution_count": null,
   "id": "88ccebfc-521f-454b-83b2-2cffadb8aaab",
   "metadata": {},
   "outputs": [],
   "source": []
  },
  {
   "cell_type": "markdown",
   "id": "3963b500-f2b3-4e30-b0b5-9044f7f62ec2",
   "metadata": {},
   "source": [
    "# not work above code try this in terminal"
   ]
  },
  {
   "cell_type": "code",
   "execution_count": null,
   "id": "86ecf622-44cf-48fb-8ff7-bee40ff8755e",
   "metadata": {},
   "outputs": [],
   "source": [
    "source myenv/bin/activate\n"
   ]
  },
  {
   "cell_type": "code",
   "execution_count": null,
   "id": "cbb3e329-1ec9-4ab9-9ac0-92d4d952ffaa",
   "metadata": {},
   "outputs": [],
   "source": [
    "pip install jupyter ipykernel\n"
   ]
  },
  {
   "cell_type": "code",
   "execution_count": null,
   "id": "d44f8a49-bc36-434d-86e7-83e7948d9f8c",
   "metadata": {},
   "outputs": [],
   "source": [
    "python -m ipykernel install --user --name=myenv --display-name \"Python (myenv)\"\n"
   ]
  },
  {
   "cell_type": "code",
   "execution_count": null,
   "id": "c9d705bf-e0de-4007-ba95-aaef11825758",
   "metadata": {},
   "outputs": [],
   "source": [
    "jupyter notebook\n"
   ]
  },
  {
   "cell_type": "code",
   "execution_count": null,
   "id": "9bf62246-1e37-4416-97bc-40330bfa463d",
   "metadata": {},
   "outputs": [],
   "source": []
  },
  {
   "cell_type": "code",
   "execution_count": null,
   "id": "93cb60bf-db3e-499f-9282-f54e09771d8e",
   "metadata": {},
   "outputs": [],
   "source": [
    "\n",
    "\n",
    "python -m venv myenv\n",
    "myenv\\Scripts\\activate\n",
    "pip install jupyter\n",
    "pip install ipykernel\n",
    "python -m ipykernel install --user --name=myenv --display-name \"Python (myenv)\"\n",
    "jupyter notebook\n"
   ]
  },
  {
   "cell_type": "code",
   "execution_count": null,
   "id": "d3068090-8e68-44d6-8eb5-baccaa82de9b",
   "metadata": {},
   "outputs": [],
   "source": []
  },
  {
   "cell_type": "code",
   "execution_count": null,
   "id": "a7f30bbf-eb46-4850-b574-f4765e22a30c",
   "metadata": {},
   "outputs": [],
   "source": [
    "# Core scientific and plotting libraries\n",
    "!pip install numpy matplotlib\n",
    "\n",
    "# Gensim for word vectors and models\n",
    "!pip install gensim\n",
    "\n",
    "# Scikit-learn for PCA and TSNE\n",
    "!pip install scikit-learn\n",
    "\n",
    "# Hugging Face Transformers\n",
    "!pip install transformers\n",
    "\n",
    "# Google API Clients\n",
    "!pip install google-auth-oauthlib google-api-python-client\n",
    "\n",
    "# LangChain and Cohere integration\n",
    "!pip install langchain langchain-community cohere\n",
    "\n",
    "# Wikipedia access\n",
    "!pip install wikipedia\n",
    "\n",
    "# Web scraping\n",
    "!pip install requests beautifulsoup4\n",
    "\n",
    "# JSON is part of the Python standard library (no need to install)\n",
    "\n",
    "!pip install transformers torch\n"
   ]
  }
 ],
 "metadata": {
  "kernelspec": {
   "display_name": "Python 3 (ipykernel)",
   "language": "python",
   "name": "python3"
  },
  "language_info": {
   "codemirror_mode": {
    "name": "ipython",
    "version": 3
   },
   "file_extension": ".py",
   "mimetype": "text/x-python",
   "name": "python",
   "nbconvert_exporter": "python",
   "pygments_lexer": "ipython3",
   "version": "3.11.9"
  }
 },
 "nbformat": 4,
 "nbformat_minor": 5
}
